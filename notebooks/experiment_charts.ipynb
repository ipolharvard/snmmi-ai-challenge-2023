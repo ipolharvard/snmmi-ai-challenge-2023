{
 "cells": [
  {
   "cell_type": "code",
   "execution_count": null,
   "metadata": {},
   "outputs": [],
   "source": [
    "import pandas as pd\n",
    "import seaborn as sns\n",
    "from matplotlib import pyplot as plt\n",
    "\n",
    "from ospkg.constants import RESULTS_DIR\n",
    "\n",
    "sns.set_theme()\n",
    "\n",
    "res = []\n",
    "for res_file in RESULTS_DIR.iterdir():\n",
    "    res_json = pd.read_json(res_file)\n",
    "    if len(res_json) == 5:\n",
    "        res.append(res_json)\n",
    "    else:\n",
    "        if len(res_json) == 4:\n",
    "            res.append(res_json)\n",
    "        print(f\"Detected incomplete run: '{res_file}' (len={len(res_json)})\")\n",
    "\n",
    "df = pd.concat(res, ignore_index=True)\n",
    "df[\"model\"] = df.model.str.lower()\n",
    "df = df.loc[~df.model.isin((\"sig\", \"dsig\", \"box_ord_n\"))]\n",
    "df.loc[df.model == \"bin_n\", \"model\"] += df.loc[df.model == \"bin_n\"].n_bins.astype(str)\n",
    "df.loc[df.model == \"box_ord_n\", \"model\"] += df.loc[df.model == \"box_ord_n\"].order.astype(str)\n",
    "df.loc[df.smote, \"dataset\"] += \"_smote\"\n",
    "df.loc[df.val_mse, \"model\"] += \"_mse\"\n",
    "df.dataset += \"_\" + df.seed.astype(str)\n",
    "df[\"mse\"] = df[\"mse\"].transform(pd.to_numeric, errors=\"coerce\")\n",
    "\n",
    "agg_values = {f\"mean_{v}\": (v, \"mean\") for v in [\"c_index\", \"mse\", \"best_trial_no\"]}\n",
    "stat_df = df.groupby([\"model\", \"dataset\"], dropna=False).agg(\n",
    "    **agg_values, min_trial_num=(\"num_trials\", \"min\"), count=(\"model\", \"size\")\n",
    ")\n",
    "stat_df"
   ]
  },
  {
   "cell_type": "code",
   "execution_count": null,
   "metadata": {},
   "outputs": [],
   "source": [
    "def plot_heatmap(df, measure, sort_by=None, datasets=None, use_rank=False, **kwargs):\n",
    "    data = df\n",
    "    data = data.groupby([\"model\", \"dataset\"])[measure].mean().unstack(\"dataset\")\n",
    "    if datasets is not None:\n",
    "        data = data[datasets]\n",
    "    if use_rank:\n",
    "        data = data.rank(ascending=measure == \"mse\")\n",
    "    title = measure\n",
    "    if sort_by is not None:\n",
    "        data = data.sort_values(sort_by, ascending=measure == \"mse\" or use_rank)\n",
    "        title += f\" (sorted by {sort_by}) \"\n",
    "    ax = sns.heatmap(data=data, annot=True, cmap=\"viridis\", **kwargs)\n",
    "    ax.set_title(title)\n",
    "    return ax\n",
    "\n",
    "\n",
    "datasets = [\n",
    "    \"snmmi_22\",\n",
    "    \"snmmi_42\",\n",
    "    \"snmmi_smote_22\",\n",
    "    \"snmmi_smote_42\",\n",
    "    \"snmmi_gauss_22\",\n",
    "    \"snmmi_gauss_42\",\n",
    "    \"snmmi_gauss_smote_22\",\n",
    "    \"snmmi_gauss_smote_42\",\n",
    "]\n",
    "plt.figure(figsize=(22, 6))\n",
    "for i, measure in enumerate((\"c_index\", \"mse\"), 1):\n",
    "    ax = plt.subplot(1, 2, i)\n",
    "    plot_heatmap(df, measure, sort_by=datasets[0], datasets=datasets, fmt=\".3f\", ax=ax)\n",
    "    ax.set(ylabel=None, xlabel=None)"
   ]
  },
  {
   "cell_type": "code",
   "execution_count": null,
   "metadata": {},
   "outputs": [],
   "source": [
    "datasets = [\n",
    "    \"snmmi_22\",\n",
    "    \"snmmi_42\",\n",
    "    \"snmmi_smote_22\",\n",
    "    \"snmmi_smote_42\",\n",
    "    \"snmmi_gauss_22\",\n",
    "    \"snmmi_gauss_42\",\n",
    "    \"snmmi_gauss_smote_22\",\n",
    "    \"snmmi_gauss_smote_42\",\n",
    "]\n",
    "plt.figure(figsize=(22, 6))\n",
    "for i, measure in enumerate((\"c_index\", \"mse\"), 1):\n",
    "    ax = plt.subplot(1, 3, i)\n",
    "    plot_heatmap(df, measure, sort_by=datasets[0], datasets=datasets, use_rank=True, ax=ax)\n",
    "    ax.set(ylabel=None, xlabel=None)"
   ]
  },
  {
   "cell_type": "code",
   "execution_count": null,
   "metadata": {},
   "outputs": [],
   "source": [
    "plt.figure(figsize=(18, 5))\n",
    "for i, measure in enumerate((\"c_index\", \"mse\", \"c_index_td\"), 1):\n",
    "    ax = plt.subplot(1, 3, i)\n",
    "    sns.boxplot(df, y=measure, x=\"fold_num\", ax=ax)\n",
    "    ax.set_title(f\"average {measure} across folds\")"
   ]
  }
 ],
 "metadata": {
  "kernelspec": {
   "display_name": "Python 3",
   "language": "python",
   "name": "python3"
  },
  "language_info": {
   "codemirror_mode": {
    "name": "ipython",
    "version": 2
   },
   "file_extension": ".py",
   "mimetype": "text/x-python",
   "name": "python",
   "nbconvert_exporter": "python",
   "pygments_lexer": "ipython2",
   "version": "2.7.6"
  }
 },
 "nbformat": 4,
 "nbformat_minor": 0
}
